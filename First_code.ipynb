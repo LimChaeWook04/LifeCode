{
  "nbformat": 4,
  "nbformat_minor": 0,
  "metadata": {
    "colab": {
      "provenance": [],
      "authorship_tag": "ABX9TyM7ShMqvmEsb2fUanF2aC+o",
      "include_colab_link": true
    },
    "kernelspec": {
      "name": "python3",
      "display_name": "Python 3"
    },
    "language_info": {
      "name": "python"
    }
  },
  "cells": [
    {
      "cell_type": "markdown",
      "metadata": {
        "id": "view-in-github",
        "colab_type": "text"
      },
      "source": [
        "<a href=\"https://colab.research.google.com/github/LimChaeWook04/LifeCode/blob/main/First_code.ipynb\" target=\"_parent\"><img src=\"https://colab.research.google.com/assets/colab-badge.svg\" alt=\"Open In Colab\"/></a>"
      ]
    },
    {
      "cell_type": "markdown",
      "source": [],
      "metadata": {
        "id": "QEZHk0it0Cn7"
      }
    },
    {
      "cell_type": "code",
      "source": [
        "나의 첫번째 코드"
      ],
      "metadata": {
        "id": "ZiUfzAiG0ILs"
      },
      "execution_count": null,
      "outputs": []
    },
    {
      "cell_type": "markdown",
      "source": [
        "나의 첫번쨰 코드"
      ],
      "metadata": {
        "id": "RBQehLBE0VP7"
      }
    },
    {
      "cell_type": "code",
      "execution_count": 2,
      "metadata": {
        "id": "7IOmi19fy8qv",
        "colab": {
          "base_uri": "https://localhost:8080/"
        },
        "outputId": "83e631ac-b029-4ff6-9c5c-086033dc42dc"
      },
      "outputs": [
        {
          "output_type": "stream",
          "name": "stdout",
          "text": [
            "limchaewook\n"
          ]
        }
      ],
      "source": [
        "name = \"limchaewook\";\n",
        "print(name)"
      ]
    },
    {
      "cell_type": "markdown",
      "source": [
        "코딩 두번째, hello world! 만들기"
      ],
      "metadata": {
        "id": "jVX9-xmL2-2M"
      }
    },
    {
      "cell_type": "code",
      "source": [
        "name = \"hello world\";\n",
        "print(name)"
      ],
      "metadata": {
        "colab": {
          "base_uri": "https://localhost:8080/"
        },
        "id": "4z2pl_4s3Ik2",
        "outputId": "054ff93e-f9df-480b-febd-75b5290f81ca"
      },
      "execution_count": 3,
      "outputs": [
        {
          "output_type": "stream",
          "name": "stdout",
          "text": [
            "hello world\n"
          ]
        }
      ]
    },
    {
      "cell_type": "markdown",
      "source": [],
      "metadata": {
        "id": "UD5-w99LzwoD"
      }
    }
  ]
}